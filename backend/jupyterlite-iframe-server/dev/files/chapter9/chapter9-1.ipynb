{
 "cells": [
  {
   "cell_type": "markdown",
   "id": "7abc8989-072a-4839-a224-ba4e0d84750a",
   "metadata": {},
   "source": [
    "In the previous lesson, we learned how to use a for loop to iterate a list or a string variable. In  real life, people need to deal with consecutive numbers very often. For example, calculate the sum  from 1 to 100 or find the even numbers from 1 to 100. Python provides range() as a built-in function  to generate a sequence of numbers for these use cases.\n",
    "\n",
    "In simple terms, range() allows the user to generate a series of numbers within a given range,  starting from 0 by default, and increments by 1 (by default), and ends at a specified number  that is not included.\n",
    "\n",
    "In the below example, range(5) is essentially the same as [0, 1, 2, 3, 4] with the length is the same as the specified number. Note that the sequence starts at 0, and 5 is not included.\n"
   ]
  },
  {
   "cell_type": "code",
   "execution_count": 2,
   "id": "9381203f-8e6d-4a3b-9740-32cba854ca66",
   "metadata": {},
   "outputs": [
    {
     "name": "stdout",
     "output_type": "stream",
     "text": [
      "0\n",
      "1\n",
      "2\n",
      "3\n",
      "4\n"
     ]
    }
   ],
   "source": [
    "for i in range(5):\n",
    "    print(i)"
   ]
  },
  {
   "cell_type": "markdown",
   "id": "2035accd-ee56-4fd4-92b3-df6884667fb8",
   "metadata": {},
   "source": [
    "As you may have noticed, the sequence is exactly the same as the index numbers of a given iterable  variable (list or string). It is very common for people to use range(len(iterable_variable)) to  iterate the index numbers and access the elements by using index numbers."
   ]
  },
  {
   "cell_type": "code",
   "execution_count": 4,
   "id": "ecfaa706-66b6-4d6f-8f03-ae4410903d2c",
   "metadata": {},
   "outputs": [
    {
     "name": "stdout",
     "output_type": "stream",
     "text": [
      "10\n",
      "20\n",
      "30\n",
      "40\n",
      "50\n"
     ]
    }
   ],
   "source": [
    "numbers = [10, 20, 30, 40, 50]\n",
    "for i in range(len(numbers)):\n",
    "        print(numbers[i])"
   ]
  },
  {
   "cell_type": "markdown",
   "id": "f6d34a1b-2269-4817-a3d9-dc0f9c862664",
   "metadata": {},
   "source": [
    "And here is an example of using range() to calculate the sum of numbers from 1 to 10. Note that  we give the range number as 11, which is not included. The first argument sets the start number  to 1, and there are ten numbers in the sequence: [1, 2, 3, 4, 5, 6, 7, 8, 9, 10]."
   ]
  },
  {
   "cell_type": "code",
   "execution_count": 6,
   "id": "1f61d19f-a77d-4d6d-a294-5b560ab931bb",
   "metadata": {},
   "outputs": [
    {
     "name": "stdout",
     "output_type": "stream",
     "text": [
      "55\n"
     ]
    }
   ],
   "source": [
    "sum = 0\n",
    "for num in range(1, 11):\n",
    "    sum = sum + num\n",
    "\n",
    "print (sum)"
   ]
  }
 ],
 "metadata": {
  "kernelspec": {
   "display_name": "Python 3.11.4 64-bit ('base': conda)",
   "language": "python",
   "name": "python311464bitbasecondad3346d6601f1432fb97d2bc5c0231d98"
  },
  "language_info": {
   "codemirror_mode": {
    "name": "ipython",
    "version": 3
   },
   "file_extension": ".py",
   "mimetype": "text/x-python",
   "name": "python",
   "nbconvert_exporter": "python",
   "pygments_lexer": "ipython3",
   "version": "3.11.4"
  }
 },
 "nbformat": 4,
 "nbformat_minor": 5
}
