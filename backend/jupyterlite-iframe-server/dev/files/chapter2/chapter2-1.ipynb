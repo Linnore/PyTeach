{
 "cells": [
  {
   "cell_type": "markdown",
   "id": "de1098bf-e352-49bf-ab1c-f1a1d1d52b99",
   "metadata": {},
   "source": [
    "## Chapter 2: Strings\n",
    "In the previous lesson, you learned what a computer program was and accomplished  writing your first Python program. As you may recall, \"Hello Kids Python\" is  called a string in Python. Basically, a string is a sequence of characters  enclosed in double (\") or single quotes ('). Either single quotes, double quotes,  or triple quotes work for defining strings. It can be a single character, a word,  a phrase, a sentence or even the content of a whole book. A string's length is  only limited by the RAM (Radon Access Memory) on the computer you use.\n",
    "\n",
    "You can store any information you want in a string. Month can be considered as a  string, for example \"February\" is a string. Or, color names are also  strings, \"red\", \"blue\" and so on. Sentences can also be strings, for example  \"The quick brown fox jumps over the lazy dog\", or \"This is a very very very very  very long sentence\" are strings.\n",
    "\n",
    "Here are examples of the mentioned strings."
   ]
  },
  {
   "cell_type": "raw",
   "id": "f2096524-e873-42a0-b8c2-45f4e9269e50",
   "metadata": {},
   "source": [
    "'This is a string with single quote'\n",
    "\"This is a string with double quotes\"\n",
    "'''This is a string with triple quotes'''\n",
    "\"\"\"This is a another string with triple quotes\"\"\"\n",
    "\"February\"\n",
    "\"red\"\n",
    "\"The quick brown fox jumps over the lazy dog\""
   ]
  },
  {
   "cell_type": "markdown",
   "id": "ff7cbe63-c8d3-4c85-b419-3bcbc059ab3a",
   "metadata": {},
   "source": [
    "Now you may wonder if it is allowed to mix different types of quotes in a string?"
   ]
  },
  {
   "cell_type": "code",
   "execution_count": 1,
   "id": "3ce8afe4-fb10-4174-849c-57a9cb517261",
   "metadata": {},
   "outputs": [
    {
     "ename": "SyntaxError",
     "evalue": "EOL while scanning string literal (135906309.py, line 1)",
     "output_type": "error",
     "traceback": [
      "\u001b[1;36m  Cell \u001b[1;32mIn[1], line 1\u001b[1;36m\u001b[0m\n\u001b[1;33m    print('Is this a correct string?\")\u001b[0m\n\u001b[1;37m                                      ^\u001b[0m\n\u001b[1;31mSyntaxError\u001b[0m\u001b[1;31m:\u001b[0m EOL while scanning string literal\n"
     ]
    }
   ],
   "source": [
    "print('Is this a correct string?\")"
   ]
  },
  {
   "cell_type": "markdown",
   "id": "6f5f4354-4dac-4f18-b601-b99a7cb43ca7",
   "metadata": {},
   "source": [
    "This is not allowed. The quotation marks need to be paired, otherwise Python can  not parse the string correctly. In our class, we will always use double quotes to  define strings."
   ]
  },
  {
   "cell_type": "markdown",
   "id": "acde1058",
   "metadata": {},
   "source": [
    "### String Operators\n",
    "Now we know what is a string, let's talk about what we can do with strings. I want  to teach you two string operators today: The addition operator (+) for  concatenating strings and the multiplication operator (*) for repeating a string.\n",
    "\n",
    "Two or more strings can be concatenated to form a new and longer string, by using  the plus sign (+). Similar to how the addition operator can be used to add 2  numbers, the addition operator (+) can be used to join 2 strings together."
   ]
  },
  {
   "cell_type": "code",
   "execution_count": 2,
   "id": "d1f7118b",
   "metadata": {},
   "outputs": [
    {
     "name": "stdout",
     "output_type": "stream",
     "text": [
      "KidslovePython\n",
      "Kids love Python\n",
      "These two strings are the same\n"
     ]
    }
   ],
   "source": [
    "print(\"Kids\" + \"love\" + \"Python\")\n",
    "print(\"Kids love Python\")\n",
    "print(\"These two strings are the same\")"
   ]
  },
  {
   "cell_type": "markdown",
   "id": "228ae039",
   "metadata": {},
   "source": [
    "Note that you need to put white spaces in between your words or sentences when  you concatenate strings to separate them, just like how you use white spaces to  separate words in English when you write. Spaces can appear in strings just like  any other letter. For example, they can appear in the end of the first string,  or the start of the last string, or the start and end of the middle string,  for example:"
   ]
  },
  {
   "cell_type": "code",
   "execution_count": 3,
   "id": "83322747",
   "metadata": {},
   "outputs": [
    {
     "name": "stdout",
     "output_type": "stream",
     "text": [
      "KidslovePython\n",
      "Kidslove Python\n"
     ]
    }
   ],
   "source": [
    "print(\"Kids\" + \"love\" + \"Python\")\n",
    "print(\"Kids\" + \"love\" + \" Python\")"
   ]
  },
  {
   "cell_type": "markdown",
   "id": "bd0798d4",
   "metadata": {},
   "source": [
    "Now let's talk about another string operator, the multiplication operator ( * ). In math, the multiplication operator ( * ) adds together specified copies of anumber. For example, 5 * 3 is 3 copies of 5 added together (5 + 5 + 5). We candoa similar\n",
    "operation with strings in Python. The multiplication operator ( * ) can be used to add together multiple copies of the same string. Try to run below code, see what happens?"
   ]
  },
  {
   "cell_type": "code",
   "execution_count": 4,
   "id": "58df15b4",
   "metadata": {},
   "outputs": [
    {
     "name": "stdout",
     "output_type": "stream",
     "text": [
      "a\n",
      "aaaaa\n",
      "aaaaaaaaaa\n"
     ]
    }
   ],
   "source": [
    "print(\"a\" * 1)\n",
    "print(\"a\" * 5)\n",
    "print(\"a\" * 10)"
   ]
  },
  {
   "cell_type": "markdown",
   "id": "85270b14",
   "metadata": {},
   "source": [
    "The first string printed a one time, the second string printed a 5 times and the  last string printed a 10 times. Try experimenting with different string and  number combos and see what you can come up with.\n",
    "\n",
    "We can even combine the multiplication operator with the addition operator."
   ]
  },
  {
   "cell_type": "code",
   "execution_count": 5,
   "id": "448cee3a",
   "metadata": {},
   "outputs": [
    {
     "name": "stdout",
     "output_type": "stream",
     "text": [
      "This is so so so so so so so so so so cool!\n"
     ]
    }
   ],
   "source": [
    "print(\"This is \" + \"so \" * 10 + \"cool!\")"
   ]
  },
  {
   "cell_type": "markdown",
   "id": "749f4499",
   "metadata": {},
   "source": [
    "The last thing I want to teach you is the \"len()\" function. \"len\" is short for length, and it will count the total number of characters in a string. When you execute print(len(\"Kids Python\")), 11 will be printed out, as there are 11 characters in the string. Keep in mind that the white space is also counted as a character."
   ]
  },
  {
   "cell_type": "code",
   "execution_count": 6,
   "id": "65cd3159",
   "metadata": {},
   "outputs": [
    {
     "name": "stdout",
     "output_type": "stream",
     "text": [
      "11\n"
     ]
    }
   ],
   "source": [
    "print(len(\"Kids Python\"))"
   ]
  }
 ],
 "metadata": {
  "kernelspec": {
   "display_name": "Python 3 (ipykernel)",
   "language": "python",
   "name": "python3"
  },
  "language_info": {
   "codemirror_mode": {
    "name": "ipython",
    "version": 3
   },
   "file_extension": ".py",
   "mimetype": "text/x-python",
   "name": "python",
   "nbconvert_exporter": "python",
   "pygments_lexer": "ipython3",
   "version": "3.8.17"
  }
 },
 "nbformat": 4,
 "nbformat_minor": 5
}
