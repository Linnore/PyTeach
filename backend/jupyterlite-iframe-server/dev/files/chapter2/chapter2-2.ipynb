{
 "cells": [
  {
   "cell_type": "markdown",
   "id": "1691f847-c87f-4807-a998-502c3cf071a1",
   "metadata": {},
   "source": [
    "### String Operators\n",
    "Now we know what is a string, let's talk about what we can do with strings. I want  to teach you two string operators today: The addition operator (+) for  concatenating strings and the multiplication operator (*) for repeating a string.\n",
    "\n",
    "Two or more strings can be concatenated to form a new and longer string, by using  the plus sign (+). Similar to how the addition operator can be used to add 2  numbers, the addition operator (+) can be used to join 2 strings together."
   ]
  },
  {
   "cell_type": "code",
   "execution_count": 3,
   "id": "fc2c333b-270e-4db3-b884-17164198c5b9",
   "metadata": {},
   "outputs": [
    {
     "name": "stdout",
     "output_type": "stream",
     "text": [
      "KidslovePython\n",
      "Kids love Python\n",
      "These two strings are the same\n"
     ]
    }
   ],
   "source": [
    "print(\"Kids\" + \"love\" + \"Python\")\n",
    "print(\"Kids love Python\")\n",
    "print(\"These two strings are the same\")"
   ]
  },
  {
   "cell_type": "markdown",
   "id": "85a39b6b-e061-4e65-88c1-1bc14bf2426b",
   "metadata": {},
   "source": [
    "Note that you need to put white spaces in between your words or sentences when  you concatenate strings to separate them, just like how you use white spaces to  separate words in English when you write. Spaces can appear in strings just like  any other letter. For example, they can appear in the end of the first string,  or the start of the last string, or the start and end of the middle string,  for example:"
   ]
  },
  {
   "cell_type": "code",
   "execution_count": 6,
   "id": "bfd09d93-a83c-4776-ae9e-4151e6e23af9",
   "metadata": {},
   "outputs": [
    {
     "name": "stdout",
     "output_type": "stream",
     "text": [
      "KidslovePython\n",
      "Kidslove Python\n"
     ]
    }
   ],
   "source": [
    "print(\"Kids\" + \"love\" + \"Python\")\n",
    "print(\"Kids\" + \"love\" + \" Python\")"
   ]
  },
  {
   "cell_type": "markdown",
   "id": "ef359d0b-ecba-40fc-82d0-ef7285da7b1d",
   "metadata": {},
   "source": [
    "Now let's talk about another string operator, the multiplication operator ( * ). In math, the multiplication operator ( * ) adds together specified copies of anumber. For example, 5 * 3 is 3 copies of 5 added together (5 + 5 + 5). We candoa similar\n",
    "operation with strings in Python. The multiplication operator ( * ) can be used to add together multiple copies of the same string. Try to run below code, see what happens?"
   ]
  },
  {
   "cell_type": "code",
   "execution_count": 9,
   "id": "6ea208cc-79b0-4f77-97d8-1537d7ff50d2",
   "metadata": {},
   "outputs": [
    {
     "name": "stdout",
     "output_type": "stream",
     "text": [
      "a\n",
      "aaaaa\n",
      "aaaaaaaaaa\n"
     ]
    }
   ],
   "source": [
    "print(\"a\" * 1)\n",
    "print(\"a\" * 5)\n",
    "print(\"a\" * 10)"
   ]
  },
  {
   "cell_type": "markdown",
   "id": "69b6379f-9fec-4a2a-9e48-9f3a6b41ca3f",
   "metadata": {},
   "source": [
    "The first string printed a one time, the second string printed a 5 times and the  last string printed a 10 times. Try experimenting with different string and  number combos and see what you can come up with.\n",
    "\n",
    "We can even combine the multiplication operator with the addition operator."
   ]
  },
  {
   "cell_type": "code",
   "execution_count": 12,
   "id": "b71de2cb-20ac-4cd4-bf07-37728dbfd73c",
   "metadata": {},
   "outputs": [
    {
     "name": "stdout",
     "output_type": "stream",
     "text": [
      "This is so so so so so so so so so so cool!\n"
     ]
    }
   ],
   "source": [
    "print(\"This is \" + \"so \" * 10 + \"cool!\")"
   ]
  },
  {
   "cell_type": "markdown",
   "id": "cb2a3fbc-ad80-4754-a7d7-26933de717ce",
   "metadata": {},
   "source": [
    "The last thing I want to teach you is the \"len()\" function. \"len\" is short for  length, and it will count the total number of characters in a string. When you  execute print(len(\"Kids Python\")), 11 will be printed out, as there are 11  characters in the string. Keep in mind that the white space is also counted as  a character."
   ]
  },
  {
   "cell_type": "code",
   "execution_count": null,
   "id": "328a3344-a644-487c-b595-5203553f017f",
   "metadata": {},
   "outputs": [],
   "source": []
  }
 ],
 "metadata": {
  "kernelspec": {
   "display_name": "Python 3 (ipykernel)",
   "language": "python",
   "name": "python3"
  },
  "language_info": {
   "codemirror_mode": {
    "name": "ipython",
    "version": 3
   },
   "file_extension": ".py",
   "mimetype": "text/x-python",
   "name": "python",
   "nbconvert_exporter": "python",
   "pygments_lexer": "ipython3",
   "version": "3.12.4"
  }
 },
 "nbformat": 4,
 "nbformat_minor": 5
}
