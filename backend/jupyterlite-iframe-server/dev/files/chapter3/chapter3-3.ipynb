{
 "cells": [
  {
   "cell_type": "code",
   "execution_count": 1,
   "id": "a08c3cbe-fd50-4c06-a26a-ca34b3becfbd",
   "metadata": {},
   "outputs": [
    {
     "name": "stdout",
     "output_type": "stream",
     "text": [
      "20\n",
      "20\n"
     ]
    }
   ],
   "source": [
    "print(\"20\")\n",
    "print (20)"
   ]
  },
  {
   "cell_type": "markdown",
   "id": "b5a7496a-dbcd-4725-8a34-16b1b7ba7da0",
   "metadata": {},
   "source": [
    "Even though the output looks the same, make sure to remember that the two arguments are  different types. Since the first line of code is wrapped by double quotes, it is a string  that contains numbers. On the other hand, the second line doesn't contain quotes, so it is  a number and not a string. The argument in the first line can only use string operators  (+ and *), while the second line can only use number operators (+, -, *, /, %).\n",
    "\n",
    "Try to execute below lines of code, and find the differences."
   ]
  },
  {
   "cell_type": "code",
   "execution_count": 4,
   "id": "c8e283ff-7b0c-4d34-93fb-d3a327433570",
   "metadata": {},
   "outputs": [
    {
     "name": "stdout",
     "output_type": "stream",
     "text": [
      "2020\n",
      "2020\n",
      "20students\n",
      "40\n",
      "40\n"
     ]
    }
   ],
   "source": [
    "print(\"20\" + \"20\")\n",
    "print(\"20\" * 2)\n",
    "print(\"20\" + \"students\")\n",
    "print(20 + 20)\n",
    "print(20 * 2)"
   ]
  },
  {
   "cell_type": "markdown",
   "id": "f510c53d-0e69-4bb3-a8c6-230b47f87e17",
   "metadata": {},
   "source": [
    "The string operations in the above example will print \"2020\" as a string, because it is adding  the content of the string \"20\" to the first string \"20\". The results of math operations in the  above example will print 40 as a number. There is a big difference between the string and  number arguments. You always need to be clear on which type of arguments are in use."
   ]
  },
  {
   "cell_type": "code",
   "execution_count": null,
   "id": "34b23e42-c57f-493c-9c8c-d79260f13667",
   "metadata": {},
   "outputs": [],
   "source": []
  }
 ],
 "metadata": {
  "kernelspec": {
   "display_name": "Python 3 (ipykernel)",
   "language": "python",
   "name": "python3"
  },
  "language_info": {
   "codemirror_mode": {
    "name": "ipython",
    "version": 3
   },
   "file_extension": ".py",
   "mimetype": "text/x-python",
   "name": "python",
   "nbconvert_exporter": "python",
   "pygments_lexer": "ipython3",
   "version": "3.12.4"
  }
 },
 "nbformat": 4,
 "nbformat_minor": 5
}
