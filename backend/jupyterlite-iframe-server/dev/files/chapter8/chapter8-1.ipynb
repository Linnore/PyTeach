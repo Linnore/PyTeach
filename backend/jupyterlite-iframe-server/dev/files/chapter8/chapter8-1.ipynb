{
 "cells": [
  {
   "cell_type": "markdown",
   "id": "b37ea157-a824-4520-bfb8-aacfada423e4",
   "metadata": {},
   "source": [
    "In the previous lesson we learned four types of variables:\n",
    "\n",
    "- Bool\n",
    "- Integer\n",
    "- String\n",
    "- List\n",
    "\n",
    "Some of these variable types may contain or represent multiple items, what do you think  they are? List variable is definitely one, and string variable is too, which may not be  that obvious. A string variable's elements are the characters inside the string. There  are natural needs to split or retrieve elements from a list or a string, but not from a  boolean or integer variable.\n",
    "\n",
    "Both list and string variables support below operations.\n",
    "\n",
    "- Use len() function to calculate the length of the variable.\n",
    "- Use an index number (wrapped by the [] brackets) to access the element at that position.\n",
    "- Use the membership operators \"in\" or \"no in\" to check if a value is present in the variable."
   ]
  },
  {
   "cell_type": "code",
   "execution_count": 1,
   "id": "01f87702-5560-4ea1-98eb-08d2f2a277bc",
   "metadata": {},
   "outputs": [
    {
     "name": "stdout",
     "output_type": "stream",
     "text": [
      "3\n",
      "apple\n",
      "True\n",
      "5\n",
      "H\n",
      "True\n"
     ]
    }
   ],
   "source": [
    "fruits = [\"apple\", \"berry\", \"cherry\"]\n",
    "print(len(fruits))\n",
    "print(fruits[0])\n",
    "print(\"apple\" in fruits)\n",
    "\n",
    "hello = \"Hello\"\n",
    "print(len(hello))\n",
    "print(hello[0])\n",
    "print(\"H\" in hello)"
   ]
  },
  {
   "cell_type": "markdown",
   "id": "3db0e03a-def2-4d33-b39a-76ce0bc5aced",
   "metadata": {},
   "source": [
    "The list and string variables are also called iterable variables that can be obtained  successive items until the supply is exhausted. Iterating over a sequence is called  traversal. You can use a for loop to iterate each element of these variables so that  the elements can be processed individually.\n",
    "\n",
    "The for loop statement has below structure:"
   ]
  },
  {
   "cell_type": "raw",
   "id": "a621f77e-d941-48d9-b5d7-bdc24c612aa3",
   "metadata": {},
   "source": [
    "for {element variable} in {iterable variable}:\n",
    "    this indented block will execute multiple times with new element values"
   ]
  },
  {
   "cell_type": "markdown",
   "id": "5eda9771-9877-49fc-aeb2-7e19e13de482",
   "metadata": {},
   "source": [
    "The for loop statement has 2 components:\n",
    "\n",
    "- the for loop statement heading that specifies an element and an iterable variables with  the \"in\" membership operator. The heading needs to be ended with a colon sign (:).\n",
    "- an indented code block that will be executed at the number of times as the length of the  iterable variable. In each iteration, Python assigns the next value from the sequence  (the elements of the iterable variable) to the element variable automatically.\n",
    "\n",
    "Note that the element variable used in a for loop statement is created and assigned values  by Python automatically, there is no need to define it beforehand."
   ]
  },
  {
   "cell_type": "code",
   "execution_count": null,
   "id": "6a143397-5998-41df-94c8-321446a1a5db",
   "metadata": {},
   "outputs": [],
   "source": []
  }
 ],
 "metadata": {
  "kernelspec": {
   "display_name": "Python 3.11.4 64-bit ('base': conda)",
   "language": "python",
   "name": "python311464bitbasecondad3346d6601f1432fb97d2bc5c0231d98"
  },
  "language_info": {
   "codemirror_mode": {
    "name": "ipython",
    "version": 3
   },
   "file_extension": ".py",
   "mimetype": "text/x-python",
   "name": "python",
   "nbconvert_exporter": "python",
   "pygments_lexer": "ipython3",
   "version": "3.11.4"
  }
 },
 "nbformat": 4,
 "nbformat_minor": 5
}
