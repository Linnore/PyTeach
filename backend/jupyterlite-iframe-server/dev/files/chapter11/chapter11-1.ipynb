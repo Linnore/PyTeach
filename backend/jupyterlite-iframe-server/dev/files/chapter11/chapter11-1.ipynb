{
 "cells": [
  {
   "cell_type": "markdown",
   "id": "e20de1b3-6be1-4bcf-a6fa-64d801c75c07",
   "metadata": {},
   "source": [
    "In the previous lesson, we learned how to define a function in Python. In this lesson, I will give you a few examples on how to write functions to solve real problems.\n",
    "\n",
    "Once a specific task is defined for a function, you can follow these steps to write the function:\n",
    "1. Define the function name, and make it meaningful.\n",
    "2. Decide what parameters to be passed in, and give them meaningful names.\n",
    "3. Decide what result the function needs to return, or returns no result.\n",
    "4. Write the code block to complete the required task.\n",
    "\n",
    "Let's start with a simple task that requires writing a function for calculating the area of a rectangle.\n",
    "- Step 1: The function can be named as `area`, that is meaningful and calls out what task the function is for.\n",
    "- Step 2: To calculate the area of a rectangle, we need to know its width and height that can be defined as parameters.\n",
    "- Step 3: This function needs to return the calculated area as a result.\n",
    "- Step 4: In this example, the code block can be simplified to contain only the return statement. Since rectangle area is calculated as `width * height`, we can write the code block as `return width * height`. And here is the full implementation of this `area` function.\n",
    "\n",
    "And here is the full implementation of this area function."
   ]
  },
  {
   "cell_type": "code",
   "execution_count": 3,
   "id": "a89a967d-1eeb-41c7-b8a8-8a936f3e9ecd",
   "metadata": {},
   "outputs": [
    {
     "name": "stdout",
     "output_type": "stream",
     "text": [
      "50\n"
     ]
    }
   ],
   "source": [
    "def area(width, height):\n",
    "    return width * height\n",
    "\n",
    "result = area(5, 10)\n",
    "print(result)"
   ]
  },
  {
   "cell_type": "markdown",
   "id": "c3847f89-174c-4023-8491-6ff4521bf9e5",
   "metadata": {},
   "source": [
    "The second task is to write a function that returns the maximum number of two given numbers.  For example, returns 8 when the two numbers are 8, 4. Again, let's follow these 4 steps.\n",
    "\n",
    "- Step 1: The function can be named as max (short for maximum), or maximum as a full word.\n",
    "- Step 2: We need to compare two numbers to find the larger number, so we can define two  parameters to pass in the arguments. We can name these parameters as x and y, or a and b  whatever that makes sense.\n",
    "- Step 3: This function needs to return the larger number of the two given numbers.\n",
    "- Step 4: To find the larger number of two numbers, we need to compare them. We can write a  if statement to test if the first parameter is larger than the second one. If true, we return  the first parameter. Otherwise, we return the second parameter.\n",
    "\n",
    "And here is the full implementation of this maximum function."
   ]
  },
  {
   "cell_type": "code",
   "execution_count": 5,
   "id": "1e62dd81-7a31-400c-ae7b-a08d60687b10",
   "metadata": {},
   "outputs": [
    {
     "name": "stdout",
     "output_type": "stream",
     "text": [
      "8\n"
     ]
    }
   ],
   "source": [
    "def max(x, y):\n",
    "    if x > y:\n",
    "        return x\n",
    "    return y\n",
    "\n",
    "result = max(8, 4)\n",
    "print(result)"
   ]
  },
  {
   "cell_type": "code",
   "execution_count": null,
   "id": "611236d7-a097-488c-89a2-61b4adeefc5f",
   "metadata": {},
   "outputs": [],
   "source": []
  }
 ],
 "metadata": {
  "kernelspec": {
   "display_name": "Python 3.11.4 64-bit ('base': conda)",
   "language": "python",
   "name": "python311464bitbasecondad3346d6601f1432fb97d2bc5c0231d98"
  },
  "language_info": {
   "codemirror_mode": {
    "name": "ipython",
    "version": 3
   },
   "file_extension": ".py",
   "mimetype": "text/x-python",
   "name": "python",
   "nbconvert_exporter": "python",
   "pygments_lexer": "ipython3",
   "version": "3.11.4"
  }
 },
 "nbformat": 4,
 "nbformat_minor": 5
}
