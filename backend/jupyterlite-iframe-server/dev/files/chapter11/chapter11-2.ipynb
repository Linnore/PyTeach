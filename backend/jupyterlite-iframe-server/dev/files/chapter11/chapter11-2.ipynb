{
 "cells": [
  {
   "cell_type": "markdown",
   "id": "1eb7b0a6-0ad2-43c3-9d01-6167c4d37f4f",
   "metadata": {},
   "source": [
    "The third task is to write a function that reverses a given string. For example, the reversed  string of \"Hello\" is \"olleH\".\n",
    "\n",
    "- Step 1: The function can be named as reverse, that describes the specified task very well.\n",
    "- Step 2: The string to be reversed needs to be specified as a parameter. We can use a short  parameter name as s, or any other name you like.\n",
    "- Step 3: The function needs to return the reversed string as a result.\n",
    "- Step 4: To reverse a string, we can either iterate from the beginning of the string or from  the end (by using the negative index numbers). Let's try the first approach that iterates the  string from left to right. We can create a result variable that holds an empty string at the  beginning, then when the for loop iterates the string and retrieves a character, we add the  character to the beginning of the result variable. When the for loop ends, the result variable  will contain the reversed string and will be returned.\n",
    "\n",
    "Try to execute the code on KidsPython.com, and verify the result."
   ]
  },
  {
   "cell_type": "code",
   "execution_count": 1,
   "id": "a41c0be2-cf8e-4d8d-b96e-815da99e6348",
   "metadata": {},
   "outputs": [
    {
     "name": "stdout",
     "output_type": "stream",
     "text": [
      "olleH\n"
     ]
    }
   ],
   "source": [
    "def reverse(s):\n",
    "    result = \"\"\n",
    "    for c in s:\n",
    "        result = c + result\n",
    "    return result\n",
    "\n",
    "result = reverse(\"Hello\")\n",
    "print(result)"
   ]
  },
  {
   "cell_type": "markdown",
   "id": "f31f723f-d74f-485a-add1-9551c08b5d35",
   "metadata": {},
   "source": [
    "The last task is to write a function that finds all even numbers that are less than  a given number. For example, the even numbers that are smaller than 10 are 0, 2, 4, 6, 8.\n",
    "\n",
    "- Step 1: The function can be named as find_evens, that describes what task the function is  for. Or you can name it with other meaningful names.\n",
    "- Step 2: The given number needs to be specified as a parameter. We can call it num, or any  other name you like.\n",
    "- Step 3: As we need to find all even numbers less than the number, there will be multiple  values returned. We can let the function return a list as the result in this case.\n",
    "- Step 4: In the code block, we create a result variable that is assigned an empty list at  first. Then we can use the range() function to generate the sequence of all numbers less than  the num parameter. Then we can use a for loop to iterate the sequence, find even numbers and  store them into the result list variable by using the append() function. When the for loop  ends, the result list variable will contain all the numbers that are less than the num parameter  and be returned.\n",
    "\n",
    "Give the below code a try, and check what result it will print out."
   ]
  },
  {
   "cell_type": "code",
   "execution_count": 9,
   "id": "f1a8ec41-c6b7-426c-add7-ee874592c700",
   "metadata": {},
   "outputs": [
    {
     "name": "stdout",
     "output_type": "stream",
     "text": [
      "[0, 2, 4, 6, 8]\n"
     ]
    }
   ],
   "source": [
    "def find_evens(num):\n",
    "    result = []\n",
    "    for n in range(num):\n",
    "        if n % 2 == 0:\n",
    "            result.append(n)\n",
    "    return result\n",
    "\n",
    "result = find_evens(10)\n",
    "print(result)"
   ]
  }
 ],
 "metadata": {
  "kernelspec": {
   "display_name": "Python 3.11.4 64-bit ('base': conda)",
   "language": "python",
   "name": "python311464bitbasecondad3346d6601f1432fb97d2bc5c0231d98"
  },
  "language_info": {
   "codemirror_mode": {
    "name": "ipython",
    "version": 3
   },
   "file_extension": ".py",
   "mimetype": "text/x-python",
   "name": "python",
   "nbconvert_exporter": "python",
   "pygments_lexer": "ipython3",
   "version": "3.11.4"
  }
 },
 "nbformat": 4,
 "nbformat_minor": 5
}
