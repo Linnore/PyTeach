{
 "cells": [
  {
   "cell_type": "markdown",
   "id": "37fc7af1-7b73-439a-93b4-63de15f1704f",
   "metadata": {},
   "source": [
    "In the previous lesson we learned how to define logical conditions by using the comparison or  membership operators in Python, and how to store their results in boolean variables. In this  lesson, I will teach you how to use the logical conditions and booleans to control the execution  flow of your code in Python.\n",
    "\n",
    "There are two decision making statements in python:\n",
    "- **if statement**\n",
    "- **if...else statement**\n",
    "\n",
    "The if statement is used to decide whether a certain statement or block of statements will be  executed or not and it has the below structure:"
   ]
  },
  {
   "cell_type": "raw",
   "id": "d7fcb11e-03ef-4a9a-94d8-b2d836240bbd",
   "metadata": {},
   "source": [
    "if condition: \n",
    "  this indented block will execute when the condition is true"
   ]
  },
  {
   "cell_type": "markdown",
   "id": "816aba93-db89-4290-b743-94cd46c2efab",
   "metadata": {},
   "source": [
    "The if statement has 2 components:\n",
    "- the if statement heading that contains a condition to be tested as True or False, and ended with  a colon sign (:).\n",
    "- an indented code block that will be executed when the condition is true. Otherwise the code block  will be skipped and have no effect."
   ]
  },
  {
   "cell_type": "markdown",
   "id": "940a62e0-642b-43c2-a6bc-6738298f8449",
   "metadata": {},
   "source": [
    "In this given example, since num is 10 - greater than 0, the if-statement will print out \"This is a  positive number\"."
   ]
  },
  {
   "cell_type": "code",
   "execution_count": 11,
   "id": "904c440b-f12f-48fa-8aa9-a7251c1e2984",
   "metadata": {},
   "outputs": [
    {
     "name": "stdout",
     "output_type": "stream",
     "text": [
      "This is a positive number\n"
     ]
    }
   ],
   "source": [
    "num = 10\n",
    "if num > 0:\n",
    "\n",
    "    print(\"This is a positive number\")"
   ]
  },
  {
   "attachments": {},
   "cell_type": "markdown",
   "id": "8a937198-d067-4f75-90b2-70629479f5c6",
   "metadata": {},
   "source": [
    "As you can see in the example, the indented code block starts with two white spaces. Statements aligned  with the same indentation (the same amount of leading white spaces) belong to the same code block. This  means an indented code block may contain multiple statements, they will be executed or skipped together  depending on the truth of a condition."
   ]
  }
 ],
 "metadata": {
  "kernelspec": {
   "display_name": "Python 3.11.4 64-bit ('base': conda)",
   "language": "python",
   "name": "python311464bitbasecondad3346d6601f1432fb97d2bc5c0231d98"
  },
  "language_info": {
   "codemirror_mode": {
    "name": "ipython",
    "version": 3
   },
   "file_extension": ".py",
   "mimetype": "text/x-python",
   "name": "python",
   "nbconvert_exporter": "python",
   "pygments_lexer": "ipython3",
   "version": "3.11.4"
  }
 },
 "nbformat": 4,
 "nbformat_minor": 5
}
